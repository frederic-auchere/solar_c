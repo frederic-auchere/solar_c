{
 "cells": [
  {
   "cell_type": "code",
   "source": [
    "import copy\n",
    "import numpy as np\n",
    "from scipy.spatial.transform import Rotation\n",
    "import matplotlib.pyplot as plt\n",
    "from scipy.interpolate import griddata\n",
    "from matplotlib.patches import Rectangle\n",
    "from optical import rectangular_sw_substrate, rectangular_lw_substrate\n",
    "\n",
    "def plot_delta(ax, delta):\n",
    "    sc = ax.scatter(bertin_center_x, bertin_center_y, c=delta)\n",
    "    bar = fig.colorbar(sc, ax=ax)\n",
    "    bar.set_label('Sag difference [nm]')\n",
    "    ax.set_aspect('equal')\n",
    "    ax.set_xlabel('Center x (mm)')\n",
    "    ax.set_ylabel('Center y (mm)')\n",
    "    # Draw aperture of rectangular substrate\n",
    "    rect = Rectangle((substrate_center.aperture.dx - substrate_center.aperture.x_width / 2,\n",
    "                      substrate_center.aperture.dy - substrate_center.aperture.y_width / 2),\n",
    "                      substrate_center.aperture.x_width,\n",
    "                      substrate_center.aperture.y_width,\n",
    "                      color='red', fill=None)\n",
    "    ax.add_patch(rect)"
   ],
   "metadata": {
    "collapsed": false,
    "ExecuteTime": {
     "end_time": "2025-04-29T22:33:08.016965Z",
     "start_time": "2025-04-29T22:32:58.101386Z"
    }
   },
   "outputs": [],
   "execution_count": 1
  },
  {
   "cell_type": "code",
   "source": [
    "np.set_printoptions(precision=6, suppress=True)\n",
    "substrates_ega = [rectangular_lw_substrate, rectangular_sw_substrate]\n",
    "for substrate in substrates_ega:\n",
    "    print(f'=== {substrate.name} substrate ============')\n",
    "    print('EGA to native')\n",
    "    print(substrate.surface.rotation_matrix())\n",
    "    print('Native to EGA')\n",
    "    print(substrate.surface.inverse_rotation_matrix())\n",
    "    print('')"
   ],
   "metadata": {
    "collapsed": false,
    "ExecuteTime": {
     "end_time": "2025-04-29T22:33:08.030844Z",
     "start_time": "2025-04-29T22:33:08.023222Z"
    }
   },
   "outputs": [
    {
     "name": "stdout",
     "output_type": "stream",
     "text": [
      "=== Rectangular LW substrate ============\n",
      "EGA to native\n",
      "[[ 0.999909  0.000082 -0.013497 -0.000166]\n",
      " [ 0.        0.999982  0.006047 -2.0386  ]\n",
      " [ 0.013497 -0.006047  0.999891  0.012328]]\n",
      "Native to EGA\n",
      "[[ 0.999909  0.        0.013497 -0.      ]\n",
      " [ 0.000082  0.999982 -0.006047  2.038637]\n",
      " [-0.013497  0.006047  0.999891 -0.      ]]\n",
      "\n",
      "=== Rectangular SW substrate ============\n",
      "EGA to native\n",
      "[[  0.99606   -0.004875   0.088543 -31.855804]\n",
      " [  0.         0.998488   0.054977 -15.18078 ]\n",
      " [ -0.088678  -0.05476    0.994554   1.215498]]\n",
      "Native to EGA\n",
      "[[ 0.99606  -0.       -0.088678 31.838092]\n",
      " [-0.004875  0.998488 -0.05476  15.069078]\n",
      " [ 0.088543  0.054977  0.994554  2.446336]]\n",
      "\n"
     ]
    }
   ],
   "execution_count": 2
  },
  {
   "cell_type": "markdown",
   "source": [
    "# Validation of EGA sag maps with Bertin\n",
    "\n",
    "The requirements document by IAS ```SOLC-IAS-RS-004_v1.0_substrates_specifications``` uses two reference frames for each surface (LW and SW):\n",
    "* the 'native' reference frame of the surface, *i.e.* the one centered on the surface vertex.\n",
    "* the EGA frame, common to both surfaces, centered in the middle of the bonding joint.\n",
    "The document gives the transformation matrices to convert coordinates from one system to the other. They are given by:"
   ],
   "metadata": {
    "collapsed": false
   }
  },
  {
   "cell_type": "markdown",
   "source": [
    "These matrices are computed using the Zemax convention when the order flag is set to zero (default), *i.e.*  translations first, then rotations. The rotations are defined as intrinsic in order XYZ (see manual page 326).\n",
    "*Bertin uses the same conventions: translations first, then rotations*.\n",
    "\n",
    "Bertin uses a reference frame centered on the substrate top surface, hereafter center frame. The objective of the present notebook is to compare and validate the sag values computed by Bertin in the center frame of reference prior to fabrication.\n",
    "\n",
    "We derive equivalent transformation matrices between the native and the center frames. **These can be used to compute the sag in Bertin's system of coordinates and with their method (see below)**.\n",
    "\n",
    "Irrespective of the reference frame used, IAS and Bertin compute the sag is different ways: IAS transforms coordinates from the desired frame to the native one then computes the surface, while Bertin defines the surface in its native frame then transforms to the desired one.\n",
    "\n",
    "We will first validate the equivalence of the surfaces defined in the EGA and in the center frame, then simulate the way Bertin computes the sag and check tha the results are equivalent."
   ],
   "metadata": {
    "collapsed": false
   }
  },
  {
   "cell_type": "markdown",
   "source": [
    "For their computations, Bertin uses a set of points across the substrate: four corners and a cross"
   ],
   "metadata": {
    "collapsed": false
   }
  },
  {
   "cell_type": "code",
   "source": [
    "# values in [mm]\n",
    "bertin_center_x = [0, -30, -20, -10, 10, 20, 30, 0, 0, 0, 0, 0, 0, 0, 0, -30, -30, 30, 30]\n",
    "bertin_center_y = [0, 0, 0, 0, 0, 0, 0, -40, -30, -20, -10, 10, 20, 30, 40, -40, 40, 40, -40]"
   ],
   "metadata": {
    "collapsed": false,
    "ExecuteTime": {
     "end_time": "2025-04-29T22:33:08.249209Z",
     "start_time": "2025-04-29T22:33:08.244484Z"
    }
   },
   "outputs": [],
   "execution_count": 3
  },
  {
   "cell_type": "markdown",
   "source": [
    "For best accuracy at the interpolation stage, we compute sags on a finer cartesian grid (resolution ```dx``` and  ```dy```) that comprises the points used by Bertin. The comparisons will be made at the points used by Bertin."
   ],
   "metadata": {
    "collapsed": false
   }
  },
  {
   "cell_type": "code",
   "source": [
    "dx = dy = 0.2  # [mm] spatial resolution for all sag computations\n",
    "n_margin = 5 # number of points of margin used to minimize edge effects when interpolating\n",
    "x_min, x_max = min(bertin_center_x) - n_margin * dx, max(bertin_center_x) + n_margin * dx\n",
    "y_min, y_max = min(bertin_center_y) - n_margin * dy, max(bertin_center_y) + n_margin * dy\n",
    "nx = int((x_max - x_min) / dx)\n",
    "nx += (nx + 1) % 2\n",
    "ny = int((y_max - y_min) / dy)\n",
    "ny += (ny + 1) % 2\n",
    "# Regular x & y vectors in the frame of the substrate center, using n_margin points of margin\n",
    "# The vectors are designed to contain the position values used by Bertin.\n",
    "# The values are the same for both substrates because they are relative to the substrate center\n",
    "x_bertin_resampled = np.linspace(x_min, x_max, nx)\n",
    "y_bertin_resampled = np.linspace(y_min, y_max, ny)\n",
    "# indices of the original Bertin coordinates in the new, finely gridded, vectors\n",
    "# will be used to extract comparison values from the sag tables at the locations used by Bertin\n",
    "ix = [int((len(x_bertin_resampled) - 1) * (bx - x_min) / (x_max - x_min)) for bx in bertin_center_x]\n",
    "iy = [int((len(y_bertin_resampled) - 1) * (by - y_min) / (y_max - y_min)) for by in bertin_center_y]"
   ],
   "metadata": {
    "collapsed": false,
    "ExecuteTime": {
     "end_time": "2025-04-29T22:33:08.264906Z",
     "start_time": "2025-04-29T22:33:08.258275Z"
    }
   },
   "outputs": [],
   "execution_count": 4
  },
  {
   "cell_type": "markdown",
   "source": [
    "## Comparison of the two surfaces definitions (wr EGA & wrt center frame)\n",
    "\n",
    "We define two new substrates with optical surfaces defined in the respective center frames. This is achieved by translating the surfaces defined in the EGA frame by the distances between the vertices and the substrate center. In z, this requires to compute the sag of the surfaces in the EGA frame at the substrate center. By definition, **the resulting surfaces have zero sag at the substrate center**."
   ],
   "metadata": {
    "collapsed": false
   }
  },
  {
   "cell_type": "code",
   "source": [
    "rectangular_lw_substrate_center = copy.deepcopy(rectangular_lw_substrate)\n",
    "rectangular_sw_substrate_center = copy.deepcopy(rectangular_sw_substrate)\n",
    "substrates_center = [rectangular_lw_substrate_center, rectangular_sw_substrate_center]\n",
    "\n",
    "for substrate_ega, substrate_center in zip(substrates_ega, substrates_center):\n",
    "    substrate_center.aperture.dx = 0 # By definition of substrate defined wrt its center\n",
    "    substrate_center.aperture.dy = 0\n",
    "    # By definition aperture is centered on substrate\n",
    "    substrate_center.surface.dx = substrate_ega.surface.dx - substrate_ega.aperture.dx\n",
    "    substrate_center.surface.dy = substrate_ega.surface.dy - substrate_ega.aperture.dy\n",
    "    # Compute sag at center in EGA coordinates\n",
    "    # Use the built-in substrate grid to achieve better precision by interpolation with neighbors\n",
    "    j_mid, i_mid = substrate_ega.grid()[0].shape[0] // 2, substrate_ega.grid()[0].shape[1] // 2\n",
    "    # Sag at center of substrate in EGA coordinates\n",
    "    substrate_center.surface.dz = substrate_ega.surface.dz - substrate_ega.sag()[j_mid, i_mid]"
   ],
   "metadata": {
    "collapsed": false,
    "ExecuteTime": {
     "end_time": "2025-04-29T22:33:10.863741Z",
     "start_time": "2025-04-29T22:33:08.276462Z"
    }
   },
   "outputs": [],
   "execution_count": 5
  },
  {
   "cell_type": "markdown",
   "source": [
    "We verify that the two substrate definitions are equivalent by comparing the sags"
   ],
   "metadata": {
    "collapsed": false
   }
  },
  {
   "cell_type": "code",
   "source": [
    "fig, axes = plt.subplots(1, 2, tight_layout=True, figsize=(8, 4))\n",
    "fig.suptitle('Sag difference between surfaces defined wrt EGA and substrate center')\n",
    "\n",
    "limits = x_min, x_max, y_min, y_max\n",
    "grid_center = substrate_center.grid(nx, ny, limits)\n",
    "\n",
    "for substrate_ega, substrate_center, ax in zip(substrates_ega, substrates_center, axes):\n",
    "    # Translate the substrate points to the substrate frame (EGA & center) and define the corresponding grid\n",
    "    # EGA\n",
    "    limits = (x_min + substrate_ega.aperture.dx, x_max + substrate_ega.aperture.dx,\n",
    "              y_min + substrate_ega.aperture.dy, y_max + substrate_ega.aperture.dy)\n",
    "    grid_ega = substrate_ega.grid(nx, ny, limits)\n",
    "    sag_ega = substrate_ega.sag(grid_ega)[(iy, ix)]  # compute sag and select at the locations defined by Bertin\n",
    "    # Center\n",
    "    sag_center = substrate_center.sag(grid_center)[(iy, ix)]\n",
    "    delta = sag_ega - sag_center  # sag difference\n",
    "    # Compensate sag difference at substrate center between the two definitions\n",
    "    # The sag at the center is 0 by definition for the substrates defined in the center frame\n",
    "    delta -= substrate_ega.surface.dz - substrate_center.surface.dz\n",
    "    delta *= 1e6 # convert to [nm]\n",
    "\n",
    "    print(f'{substrate_ega.name} : PV={np.nanmax(delta) - np.nanmin(delta):.5f} nm, RMS={np.nanstd(delta):.5f} nm')\n",
    "    plot_delta(ax, delta)\n",
    "    ax.set_title(substrate_ega.name)"
   ],
   "metadata": {
    "collapsed": false,
    "ExecuteTime": {
     "end_time": "2025-04-29T22:35:46.710425Z",
     "start_time": "2025-04-29T22:33:10.874854Z"
    }
   },
   "outputs": [
    {
     "name": "stdout",
     "output_type": "stream",
     "text": [
      "Rectangular LW : PV=0.01408 nm, RMS=0.00290 nm\n",
      "Rectangular SW : PV=0.16887 nm, RMS=0.03091 nm\n"
     ]
    },
    {
     "data": {
      "text/plain": [
       "<Figure size 800x400 with 4 Axes>"
      ],
      "image/png": "[encoded data removed]"
     },
     "metadata": {},
     "output_type": "display_data"
    }
   ],
   "execution_count": 6
  },
  {
   "cell_type": "markdown",
   "source": [
    "The sag differences are sub-nanometer for both substrates: **the two definitions are thus equivalent**. The differences are suspected to be caused by the different interpolations.\n",
    "\n",
    "For reference, we give here the sag values in the substrate center frames:"
   ],
   "metadata": {
    "collapsed": false
   }
  },
  {
   "cell_type": "code",
   "source": [
    "for substrate in substrates_center:\n",
    "    print(f'=== {substrate.name} substrate ============')\n",
    "    sag = substrate.sag(grid_center)[iy, ix]\n",
    "    print('x y z')\n",
    "    for x, y, z in zip(bertin_center_x, bertin_center_y, sag):\n",
    "        print(f'{x:.0f} {y:.0f} {z:.7f}')\n",
    "    print('')"
   ],
   "metadata": {
    "collapsed": false,
    "ExecuteTime": {
     "end_time": "2025-04-29T22:36:10.253301Z",
     "start_time": "2025-04-29T22:35:46.736927Z"
    }
   },
   "outputs": [
    {
     "name": "stdout",
     "output_type": "stream",
     "text": [
      "=== Rectangular LW substrate ============\n",
      "x y z\n",
      "0 0 0.0000000\n",
      "-30 0 1.8910862\n",
      "-20 0 1.0701315\n",
      "-10 0 0.4398673\n",
      "10 0 -0.2497068\n",
      "20 0 -0.3094334\n",
      "30 0 -0.1793035\n",
      "0 -40 1.4284521\n",
      "0 -30 0.7870325\n",
      "0 -20 0.3351984\n",
      "0 -10 0.0728642\n",
      "0 10 0.1166317\n",
      "0 20 0.4228410\n",
      "0 30 0.9187656\n",
      "0 40 1.6045992\n",
      "-30 -40 3.3212453\n",
      "-30 40 3.4986574\n",
      "30 40 1.4243239\n",
      "30 -40 1.2481411\n",
      "\n",
      "=== Rectangular SW substrate ============\n",
      "x y z\n",
      "0 0 0.0000000\n",
      "-30 0 -0.5830981\n",
      "-20 0 -0.5818373\n",
      "-10 0 -0.3876789\n",
      "10 0 0.5819304\n",
      "20 0 1.3589536\n",
      "30 0 2.3320236\n",
      "0 -40 0.5235325\n",
      "0 -30 0.1027821\n",
      "0 -20 -0.1248718\n",
      "0 -10 -0.1592331\n",
      "0 10 0.3532352\n",
      "0 20 0.9009873\n",
      "0 30 1.6438802\n",
      "0 40 2.5826477\n",
      "-30 -40 -0.0658464\n",
      "-30 40 1.9958257\n",
      "30 40 4.9265968\n",
      "30 -40 2.8588720\n",
      "\n"
     ]
    }
   ],
   "execution_count": 7
  },
  {
   "cell_type": "markdown",
   "source": [
    "## Simulation of Bertin's way of computing the sag\n",
    "\n",
    "In order to do that we compare the sags computed in the center frame using the two methods (IAS & Bertin)."
   ],
   "metadata": {
    "collapsed": false
   }
  },
  {
   "cell_type": "code",
   "source": [
    "fig, axes = plt.subplots(1, 2, tight_layout=True, figsize=(8, 4))\n",
    "\n",
    "for substrate_center, ax in zip(substrates_center, axes):\n",
    "    # Create a surface identical to that of the substrate,\n",
    "    # but defined in its 'native' coordinates, ie with no shift and no tilt\n",
    "    native_surface = copy.deepcopy(substrate_center.surface)\n",
    "    native_surface.dx, native_surface.dy, native_surface.dz = 0, 0, 0\n",
    "    native_surface.alpha, native_surface.beta, native_surface.gamma = 0, 0, 0\n",
    "\n",
    "    # define a regular grid in the surface native coordinates with enough margin to cover the substrate\n",
    "    x_half_width = int(substrate_center.aperture.x_width / 2 + abs(substrate_center.surface.dx) + 2 * dx)\n",
    "    y_half_width = int(substrate_center.aperture.y_width / 2 + abs(substrate_center.surface.dy) + 2 * dy)\n",
    "    nx = int(2 * x_half_width / dx)\n",
    "    nx += (nx + 1) % 2\n",
    "    ny = int(2 * y_half_width / dy)\n",
    "    ny += (ny + 1) % 2\n",
    "    x_surface_native, y_surface_native = np.meshgrid(np.linspace(-x_half_width, x_half_width, nx),\n",
    "                                                     np.linspace(-y_half_width, y_half_width, ny))\n",
    "    # compute the corresponding sag\n",
    "    z_surface_native = native_surface.sag((x_surface_native, y_surface_native))\n",
    "\n",
    "    # Transform the coordinates from surface to substrate center coordinates\n",
    "    xyz = np.stack((x_surface_native.ravel(),\n",
    "                    y_surface_native.ravel(),\n",
    "                    z_surface_native.ravel(),\n",
    "                    np.ones(x_surface_native.size)))\n",
    "    x_surface_center, y_surface_center, z_surface_center = substrate_center.surface.inverse_rotation_matrix() @ xyz\n",
    "\n",
    "    # Interpolation at Bertin' locations\n",
    "    xy = (grid_center[0].flatten(), grid_center[1].flatten())\n",
    "    z = griddata((x_surface_center, y_surface_center), z_surface_center, xy, rescale=True, method='cubic').reshape(grid_center[0].shape)[iy, ix]\n",
    "\n",
    "    delta = substrate_center.sag(grid_center)[iy, ix] - z\n",
    "    delta *= 1e6 # convert to [nm]\n",
    "    plot_delta(ax, delta)\n",
    "    ax.set_title(substrate_center.name)"
   ],
   "metadata": {
    "collapsed": false,
    "jupyter": {
     "is_executing": true
    },
    "ExecuteTime": {
     "start_time": "2025-04-29T22:36:10.258200Z"
    }
   },
   "outputs": [],
   "execution_count": null
  },
  {
   "cell_type": "markdown",
   "source": [
    "The sag differences are sub-nanometer for both substrates: **the two ways are thus equivalent**. The differences are suspected to be caused by the different interpolations."
   ],
   "metadata": {
    "collapsed": false
   }
  },
  {
   "cell_type": "markdown",
   "source": [
    "The transformation matrices from the native frames to the substrate center frames are given by"
   ],
   "metadata": {
    "collapsed": false
   }
  },
  {
   "cell_type": "code",
   "source": [
    "for substrate in substrates_center:\n",
    "    print(f'=== {substrate.name} substrate ============')\n",
    "    print('Center frame to native')\n",
    "    print(substrate.surface.rotation_matrix())\n",
    "    print('Native to center frame')\n",
    "    print(substrate.surface.inverse_rotation_matrix())\n",
    "    print('')"
   ],
   "metadata": {
    "collapsed": false
   },
   "outputs": [],
   "execution_count": null
  },
  {
   "cell_type": "markdown",
   "source": [
    "The position of the substrate center in the native frame can be obtained by"
   ],
   "metadata": {
    "collapsed": false
   }
  },
  {
   "cell_type": "code",
   "source": [
    "for substrate in substrates_center:\n",
    "    print(f'=== {substrate.name} substrate ============')\n",
    "    x, y, z = substrate.surface.rotation_matrix()[:, 3]\n",
    "    print(f'Substrate center at x={x:.4f} mm, y={y:.4f} mm, z={z:.4f} mm in surface native coordinates')\n",
    "    print('')"
   ],
   "metadata": {
    "collapsed": false
   },
   "outputs": [],
   "execution_count": null
  },
  {
   "cell_type": "markdown",
   "source": [
    "These values are **different** from those listed in columns H and T of the file ```ComparaisonSAG.xlsx```. Conversely, the values given in that file are *exactly* the coordinates of the surface vertex expressed in the substrate center frame."
   ],
   "metadata": {
    "collapsed": false
   }
  },
  {
   "cell_type": "markdown",
   "source": [
    "One can also obtain the Euler angles corresponding to the native to substrate center frame transformation matrix:"
   ],
   "metadata": {
    "collapsed": false
   }
  },
  {
   "cell_type": "code",
   "source": [
    "for substrate in substrates_center:\n",
    "    print(f'=== {substrate.name} substrate ============')\n",
    "    rotation = Rotation.from_matrix(substrate.surface.inverse_rotation_matrix()[:, 0:3])\n",
    "    angles = rotation.as_euler('xyz', degrees=True)\n",
    "    print(f'Angles : alpha={angles[0]:.5f}°, beta={angles[1]:.5f}° gamma={angles[2]:.5f}°')\n",
    "    print('')"
   ],
   "metadata": {
    "collapsed": false
   },
   "outputs": [],
   "execution_count": null
  },
  {
   "cell_type": "markdown",
   "source": [
    "Finally, we simulate the sag computed by Bertin using two rotations only, with angles resulting from a fit of the sag provided by IAS."
   ],
   "metadata": {
    "collapsed": false,
    "ExecuteTime": {
     "end_time": "2024-05-13T20:00:52.054591Z",
     "start_time": "2024-05-13T20:00:52.022679800Z"
    }
   }
  },
  {
   "cell_type": "code",
   "source": [
    "sw_angles = [3.141628, -5.084720, 0]  # degrees\n",
    "lw_angles = [0.346669, 0.773625, 0]   # degrees"
   ],
   "metadata": {
    "collapsed": false
   },
   "outputs": [],
   "execution_count": null
  },
  {
   "cell_type": "markdown",
   "source": [
    "The following does not work. I can' reproduce the sag differences computed by Bertin in columns I and U, which means that I don't understand the way they were computed (as I thought from the above)."
   ],
   "metadata": {
    "collapsed": false
   }
  },
  {
   "cell_type": "code",
   "source": [
    "fig, axes = plt.subplots(1, 2, tight_layout=True, figsize=(8, 4))\n",
    "\n",
    "for substrate_center, angles, ax in zip(substrates_center, [lw_angles, sw_angles], axes):\n",
    "\n",
    "    origin_x, origin_y, origin_z = substrate_center.surface.rotation_matrix()[:, 3]\n",
    "    rotation = Rotation.from_euler('xyz', (angles[0], angles[1], angles[2]), degrees=True).as_matrix()\n",
    "    translation = np.array([[1, 0, 0, -origin_x],\n",
    "                            [0, 1, 0, -origin_y],\n",
    "                            [0, 0, 1, -origin_z]])\n",
    "    inverse_rotation_matrix = rotation @ translation\n",
    "\n",
    "    # Create a surface identical to that of the substrate,\n",
    "    # but defined in its 'native' coordinates, ie with no shift and no tilt\n",
    "    native_surface = copy.deepcopy(substrate_center.surface)\n",
    "    native_surface.dx, native_surface.dy, native_surface.dz = 0, 0, 0\n",
    "    native_surface.alpha, native_surface.beta, native_surface.gamma = 0, 0, 0\n",
    "\n",
    "    # define a regular grid in the surface native coordinates with enough margin to cover the substrate\n",
    "    x_half_width = int(substrate_center.aperture.x_width / 2 + abs(substrate_center.surface.dx) + 2 * dx)\n",
    "    y_half_width = int(substrate_center.aperture.y_width / 2 + abs(substrate_center.surface.dy) + 2 * dy)\n",
    "    nx = int(2 * x_half_width / dx)\n",
    "    nx += (nx + 1) % 2\n",
    "    ny = int(2 * y_half_width / dy)\n",
    "    ny += (ny + 1) % 2\n",
    "    x_surface_native, y_surface_native = np.meshgrid(np.linspace(-x_half_width, x_half_width, nx),\n",
    "                                                     np.linspace(-y_half_width, y_half_width, ny))\n",
    "    # compute the corresponding sag\n",
    "    z_surface_native = native_surface.sag((x_surface_native, y_surface_native))\n",
    "\n",
    "    # Transform the coordinates from surface to substrate center coordinates\n",
    "    xyz = np.stack((x_surface_native.ravel(),\n",
    "                    y_surface_native.ravel(),\n",
    "                    z_surface_native.ravel(),\n",
    "                    np.ones(x_surface_native.size)))\n",
    "    # x_surface_center, y_surface_center, z_surface_center = substrate_center.surface.inverse_rotation_matrix() @ xyz\n",
    "    # print(substrate_center.surface.inverse_rotation_matrix())\n",
    "    x_surface_center, y_surface_center, z_surface_center = inverse_rotation_matrix @ xyz\n",
    "\n",
    "    # Interpolation at Bertin' locations\n",
    "    xy = (grid_center[0].flatten(), grid_center[1].flatten())\n",
    "    z = griddata((x_surface_center, y_surface_center), z_surface_center, xy, rescale=True, method='cubic').reshape(grid_center[0].shape)[iy, ix]\n",
    "\n",
    "    delta = substrate_center.sag(grid_center)[iy, ix] - z\n",
    "    delta *= 1e6 # convert to [nm]\n",
    "    plot_delta(ax, delta)\n",
    "    ax.set_title(substrate_center.name)\n",
    "    print(np.mean(delta.data) / 1e6, np.median(delta.data) / 1e6, np.std(delta.data) / 1e6)"
   ],
   "metadata": {
    "collapsed": false
   },
   "outputs": [],
   "execution_count": null
  },
  {
   "cell_type": "markdown",
   "source": [],
   "metadata": {
    "collapsed": false
   }
  },
  {
   "cell_type": "markdown",
   "source": [
    "# Annex: angles\n",
    "\n",
    "(X, Y, Z) refers to the EGA Csys\n",
    "\n",
    "($\\eta_x$, $\\eta_y$, $\\eta_z$) refers to the LW Csys\n",
    "\n",
    "($\\xi_x$, $\\xi_y$, $\\xi_z$) refers to the SW Csys\n",
    "\n",
    "## LW\n",
    "\n",
    "### Angles between axes of EGA Csys and LW Csys\n",
    "-Tx=89.22666°\n",
    "\n",
    "-Ty=90.34647°\n",
    "\n",
    "-Tz=0.84741°\n",
    "\n",
    "### Angles projected on the EGA axes\n",
    "-Plan XY: angle (X, $\\eta_x$)=0.00468°\n",
    "\n",
    "-Plan XY: angle (Y, $\\eta_y$)=0.00000°\n",
    "\n",
    "-Plan YZ: angle (Y, $\\eta_y$)=0.34650°\n",
    "\n",
    "-Plan YZ: angle (Z, $\\eta_z$)=-0.34650°\n",
    "\n",
    "-Plan XZ: angle (X, $\\eta_x$)=-0.77333°\n",
    "\n",
    "-Plan XZ: angle (Z, $\\eta_z$)=0.77336°\n",
    "\n",
    "## SW\n",
    "\n",
    "### Angles between axes of EGA Csys and SW Csys\n",
    "\n",
    "-Tx=95.08753°\n",
    "\n",
    "-Ty=93.13911°\n",
    "\n",
    "-Tz=5.98239°\n",
    "\n",
    "### Angles projected on the EGA axes\n",
    "-Plan XY: angle (X, $\\xi_x$)=-0.28043°\n",
    "\n",
    "-Plan XY: angle (Y, $\\xi_y$)=-0.00000°\n",
    "\n",
    "-Plan YZ: angle (Y, $\\xi_y$)=3.15154°\n",
    "\n",
    "-Plan YZ: angle (Z, $\\xi_z$)=-3.15154°\n",
    "\n",
    "-Plan XZ: angle (X, $\\xi_x$)=5.07988°\n",
    "\n",
    "-Plan XZ: angle (Z, $\\xi_z$)=-5.09520°"
   ],
   "metadata": {
    "collapsed": false
   }
  },
  {
   "cell_type": "code",
   "source": [],
   "metadata": {
    "collapsed": false
   },
   "outputs": [],
   "execution_count": null
  }
 ],
 "metadata": {
  "kernelspec": {
   "display_name": "Python 3",
   "language": "python",
   "name": "python3"
  },
  "language_info": {
   "codemirror_mode": {
    "name": "ipython",
    "version": 2
   },
   "file_extension": ".py",
   "mimetype": "text/x-python",
   "name": "python",
   "nbconvert_exporter": "python",
   "pygments_lexer": "ipython2",
   "version": "2.7.6"
  }
 },
 "nbformat": 4,
 "nbformat_minor": 0
}
